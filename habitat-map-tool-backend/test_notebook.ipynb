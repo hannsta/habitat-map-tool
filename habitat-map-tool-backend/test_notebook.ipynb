{
 "cells": [
  {
   "cell_type": "code",
   "execution_count": 5,
   "metadata": {},
   "outputs": [],
   "source": [
    "from load_data import DataService\n",
    "import geopandas as gpd\n",
    "from shapely.geometry import Point, box\n",
    "import rasterio\n",
    "from rasterio.transform import from_origin, Affine\n",
    "from rasterio.features import rasterize\n",
    "from rasterio.warp import calculate_default_transform, reproject, Resampling\n",
    "import numpy as np\n",
    "import sqlite3\n",
    "import pandas as pd\n",
    "import matplotlib.pyplot as plt\n",
    "import matplotlib.colors as mcolors\n",
    "from util import get_elapsed_time"
   ]
  },
  {
   "cell_type": "code",
   "execution_count": 2,
   "metadata": {},
   "outputs": [
    {
     "name": "stdout",
     "output_type": "stream",
     "text": [
      "Load tabular soil data from database  - 55.3s\n",
      "Load soil data from file  - 11.09s\n",
      "Load water data from file  - 144.05s\n"
     ]
    }
   ],
   "source": [
    "dataService = DataService()\n",
    "dataService.load_base_data()"
   ]
  },
  {
   "cell_type": "code",
   "execution_count": 6,
   "metadata": {},
   "outputs": [],
   "source": [
    "SOILDB_PATH = '../data/SSURGODB.gpkg' \n",
    "DEM_PATH = '../data/merged_dem.tif'\n",
    "WATERDB_PATH = '../data/nhdplus_epasnapshot2022_or.gpkg'\n",
    "MAIN_CRS = 'EPSG:4326'\n",
    "\n",
    "SPATIAL_LAYER = 'mupolygon'\n",
    "FLOWLINES_LAYER = 'nhdflowline_or'\n",
    "WATERBODIES_LAYER = 'nhdwaterbody_or' \n",
    "EROMMA_LAYER = 'nhdpluseromma_or'\n",
    "\n",
    "resolution = 15 / 111000\n",
    "bounding_box = gpd.GeoDataFrame({'geometry': [box(-124.39232858894887, 43.285113810166806, -124.1171319873974, 43.48511381016681)]}, crs=MAIN_CRS)"
   ]
  },
  {
   "cell_type": "code",
   "execution_count": 16,
   "metadata": {},
   "outputs": [
    {
     "name": "stdout",
     "output_type": "stream",
     "text": [
      "Buffered Flowlines  - 25.02s\n",
      "Combined Flowlines and Waterbodies  - 0.16s\n"
     ]
    }
   ],
   "source": [
    "eromma_df = dataService.eromma_df[['nhdplusid', 'qe']]\n",
    "bounding_box_gdf = bounding_box.to_crs(dataService.flowlines_gdf.crs)\n",
    "\n",
    "flowlines_gdf = gpd.overlay(dataService.flowlines_gdf, bounding_box_gdf, how='intersection')\n",
    "waterbodies_gdf = gpd.overlay(dataService.waterbodies_gdf, bounding_box_gdf, how='intersection')\n",
    "\n",
    "flowlines_gdf = flowlines_gdf.merge(eromma_df, on='nhdplusid')\n",
    "\n",
    "\n",
    "flowlines_gdf = flowlines_gdf.to_crs(crs=3857)\n",
    "flowlines_gdf['buffer'] = .02 * (flowlines_gdf['qe'])\n",
    "buffered_flowlines_gdf['geometry'] = flowlines_gdf.buffer(buffered_flowlines_gdf['buffer'])\n",
    "print(\"Buffered Flowlines {}\".format(get_elapsed_time()))\n",
    "\n",
    "buffered_flowlines_gdf = buffered_flowlines_gdf.to_crs(MAIN_CRS)\n",
    "waterbodies_gdf = waterbodies_gdf.to_crs(MAIN_CRS)\n",
    "\n",
    "\n",
    "# Combine the buffered flowlines with the waterbodies polygons\n",
    "combined_gdf = gpd.GeoDataFrame(pd.concat([buffered_flowlines_gdf, waterbodies_gdf], ignore_index=True))\n",
    "#combined_gdf = combined_gdf[combined_gdf.geometry.intersects(bounding_box)]\n",
    "print(\"Combined Flowlines and Waterbodies {}\".format(get_elapsed_time()))\n",
    "\n"
   ]
  },
  {
   "cell_type": "code",
   "execution_count": 17,
   "metadata": {},
   "outputs": [
    {
     "data": {
      "text/plain": [
       "0       0.009209\n",
       "1       0.009182\n",
       "2       0.000261\n",
       "3       0.001763\n",
       "4       0.003026\n",
       "          ...   \n",
       "5046    0.000004\n",
       "5047    0.006727\n",
       "5048    0.356924\n",
       "5049    0.000248\n",
       "5050    0.000164\n",
       "Name: buffer, Length: 5051, dtype: float64"
      ]
     },
     "execution_count": 17,
     "metadata": {},
     "output_type": "execute_result"
    }
   ],
   "source": [
    "flowlines_gdf['buffer']"
   ]
  }
 ],
 "metadata": {
  "kernelspec": {
   "display_name": ".venv",
   "language": "python",
   "name": "python3"
  },
  "language_info": {
   "codemirror_mode": {
    "name": "ipython",
    "version": 3
   },
   "file_extension": ".py",
   "mimetype": "text/x-python",
   "name": "python",
   "nbconvert_exporter": "python",
   "pygments_lexer": "ipython3",
   "version": "3.12.3"
  }
 },
 "nbformat": 4,
 "nbformat_minor": 2
}
