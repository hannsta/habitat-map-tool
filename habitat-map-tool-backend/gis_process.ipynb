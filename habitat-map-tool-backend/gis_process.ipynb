{
 "cells": [
  {
   "cell_type": "markdown",
   "metadata": {},
   "source": [
    "### Imports"
   ]
  },
  {
   "cell_type": "code",
   "execution_count": 52,
   "metadata": {},
   "outputs": [],
   "source": [
    "import geopandas as gpd\n",
    "from shapely.geometry import Point, box\n",
    "import rasterio\n",
    "from rasterio.transform import from_origin, Affine\n",
    "from rasterio.features import rasterize\n",
    "from rasterio.warp import calculate_default_transform, reproject, Resampling\n",
    "import numpy as np\n",
    "import sqlite3\n",
    "import pandas as pd\n",
    "import matplotlib.pyplot as plt\n",
    "import matplotlib.colors as mcolors\n",
    "import json\n",
    "import time\n",
    "import math\n",
    "start = time.time()\n",
    "def get_elapsed_time():\n",
    "    global start\n",
    "    elapsed = time.time() - start\n",
    "    start = time.time()\n",
    "    return elapsed"
   ]
  },
  {
   "cell_type": "markdown",
   "metadata": {},
   "source": [
    "### Bounding Box"
   ]
  },
  {
   "cell_type": "code",
   "execution_count": 53,
   "metadata": {},
   "outputs": [],
   "source": [
    "def create_bounding_box(x,y,buffer_distance):\n",
    "    \"\"\"\n",
    "    Create a bounding box around a point with a buffer distance in meters\n",
    "    \"\"\"\n",
    "    # Define the bounding box for a 10-mile radius around Hancock Hill in degrees\n",
    "    buffer_distance_meters = buffer_distance\n",
    "    buffer_distance_lat = buffer_distance_meters / 111000\n",
    "    buffer_distance_lon = buffer_distance_meters / (111000 * math.cos(math.radians(y)))\n",
    "    minx = x - buffer_distance_lon\n",
    "    maxx = x + buffer_distance_lon\n",
    "    miny = y - buffer_distance_lat\n",
    "    maxy = y + buffer_distance_lat\n",
    "\n",
    "    return box(minx, miny, maxx, maxy)"
   ]
  },
  {
   "cell_type": "markdown",
   "metadata": {},
   "source": [
    "### Load Data"
   ]
  },
  {
   "cell_type": "code",
   "execution_count": 61,
   "metadata": {},
   "outputs": [],
   "source": [
    "def load_soil_data(bounding_box):\n",
    "    spatial_layer = 'mupolygon'\n",
    "    \n",
    "    spatial_gdf = gpd.read_file(soildb_path, layer=spatial_layer)\n",
    "    print(\"Read spatial data form file {}\".format(get_elapsed_time()))\n",
    "\n",
    "\n",
    "    # Connect to the SQLite database and load relevant tables\n",
    "    conn = sqlite3.connect(soildb_path)\n",
    "    component_df = pd.read_sql_query(\"SELECT mukey, taxorder, map_l, map_r, map_h, airtempa_l, airtempa_r, airtempa_h FROM component\", conn)\n",
    "    conn.close()\n",
    "    print(\"Read tabular data from database {}\".format(get_elapsed_time()))\n",
    "\n",
    "    # Merge the tabular data with the spatial data on 'mukey'\n",
    "    merged_gdf = spatial_gdf.merge(component_df, on='mukey')\n",
    "    print(\"Merged tabular and spatial data {}\".format(get_elapsed_time()))\n",
    "    \n",
    "    bounding_box_gdf = gpd.GeoDataFrame({'geometry': [bounding_box]}, crs=main_crs)\n",
    "    bounding_box_gdf = bounding_box_gdf.to_crs(merged_gdf.crs)\n",
    "    # bounding_box = bounding_box_gdf.geometry.iloc[0]\n",
    "\n",
    "    # Filter the merged GeoDataFrame for the area of interest\n",
    "    merged_gdf = merged_gdf[merged_gdf.geometry.intersects(bounding_box_gdf)]\n",
    "    print(\"Filtered data for bounding box {}\".format(get_elapsed_time()))\n",
    "\n",
    "    return merged_gdf"
   ]
  },
  {
   "cell_type": "code",
   "execution_count": 50,
   "metadata": {},
   "outputs": [],
   "source": [
    "def load_dem_data(bounding_box):\n",
    "    with rasterio.open(combined_dem_path) as src:\n",
    "        dem_crs = src.crs\n",
    "        dem_transform = src.transform\n",
    "        bbox_gdf = gpd.GeoDataFrame({\"geometry\": [bounding_box]}, crs=main_crs)\n",
    "\n",
    "        bbox_gdf = bbox_gdf.to_crs(dem_crs)\n",
    "        bbox = bbox_gdf.geometry.iloc[0].bounds\n",
    "        \n",
    "        dem_bounds = src.bounds\n",
    "        if (bbox[0] < dem_bounds.left or bbox[2] > dem_bounds.right or\n",
    "            bbox[1] < dem_bounds.bottom or bbox[3] > dem_bounds.top):\n",
    "            raise ValueError(\"Bounding box is out of DEM bounds.\")\n",
    "        window = rasterio.windows.from_bounds(*bbox, transform=dem_transform)\n",
    "        dem_clip = src.read(1, window=window)\n",
    "        transform_clip = src.window_transform(window)\n",
    "\n",
    "        \n",
    "    # Calculate the dimensions of the target raster\n",
    "    width = int((bbox[2] - bbox[0]) / resolution)\n",
    "    height = int((bbox[3] - bbox[1]) / resolution)\n",
    "    print(\"Loaded DEM data {}\".format(get_elapsed_time()))\n",
    "\n",
    "    # Check if dimensions are valid\n",
    "    if width <= 0 or height <= 0:\n",
    "        raise ValueError(f\"Invalid target dimensions: width={width}, height={height}\")\n",
    "\n",
    "    # Create an array to hold the resampled DEM data\n",
    "    dem_data = np.empty((height, width), dtype=np.float32)\n",
    "\n",
    "    # Calculate the transform for the target raster\n",
    "    dst_transform = from_origin(bbox[0], bbox[3], resolution, -resolution)\n",
    "\n",
    "    reproject(\n",
    "        source=dem_clip,\n",
    "        destination=dem_data,\n",
    "        src_transform=transform_clip,\n",
    "        src_crs=dem_crs,\n",
    "        dst_transform=dst_transform,\n",
    "        dst_crs=main_crs,\n",
    "        resampling=Resampling.bilinear\n",
    "    )\n",
    "    print(\"Resampled DEM data {}\".format(get_elapsed_time()))\n",
    "    return dem_data\n"
   ]
  },
  {
   "cell_type": "code",
   "execution_count": 58,
   "metadata": {},
   "outputs": [],
   "source": [
    "def load_water_data(bounding_box):\n",
    "    # Path to your GPKG file\n",
    "\n",
    "    # Define the correct layer names after listing them\n",
    "    flowlines_layer = 'nhdflowline_or'  # Replace with the actual flowline layer name\n",
    "    waterbodies_layer = 'nhdwaterbody_or'  # Replace with the actual waterbody layer name\n",
    "    flowline_vaa_layer = 'nhdplusflowlinevaa_or'  # Replace with the actual VAA layer name\n",
    "    eromma_layer = 'nhdpluseromma_or'  # Replace with the actual EROMMA layer name\n",
    "\n",
    "    # Define the stream order column, mean annual flow column, and buffer sizes\n",
    "    print(\"Processing Water Data...\")\n",
    "    # Load the Flowlines, Waterbodies, and value-added attributes layers from the GPKG\n",
    "    flowlines_gdf = gpd.read_file(gpkg_path, layer=flowlines_layer)\n",
    "    waterbodies_gdf = gpd.read_file(gpkg_path, layer=waterbodies_layer)\n",
    "    eromma_df = gpd.read_file(gpkg_path, layer=eromma_layer)\n",
    "    print(\"Read data from file {}\".format(get_elapsed_time()))\n",
    "    \n",
    "    proj_bounding_box = gpd.GeoDataFrame({'geometry': [bounding_box]}, crs=main_crs)\n",
    "    proj_bounding_box = proj_bounding_box.to_crs(flowlines_gdf.crs)\n",
    "    \n",
    "    eromma_df = eromma_df[['nhdplusid', 'qa']]\n",
    "\n",
    "    flowlines_gdf = gpd.overlay(flowlines_gdf, proj_bounding_box, how='intersection')\n",
    "    waterbodies_gdf = gpd.overlay(waterbodies_gdf, proj_bounding_box, how='intersection')\n",
    "    print(\"Filtered data for bounding box {}\".format(get_elapsed_time()))\n",
    "\n",
    "    flowlines_gdf = flowlines_gdf.merge(eromma_df, on='nhdplusid')\n",
    "    print(\"Merged data {}\".format(get_elapsed_time()))\n",
    "\n",
    "\n",
    "    # Buffer the flowlines by mean annual flow\n",
    "    flowlines_gdf['buffer'] = .001 #flowlines_gdf[mean_annual_flow_col].apply(lambda x: np.sqrt(x) / 100)  # Adjust the multiplier as needed\n",
    "    buffered_flowlines_gdf = flowlines_gdf.copy()\n",
    "    buffered_flowlines_gdf['geometry'] = flowlines_gdf.buffer(buffered_flowlines_gdf['buffer'])\n",
    "    print(\"Buffered Flowlines {}\".format(get_elapsed_time()))\n",
    "\n",
    "    # Combine the buffered flowlines with the waterbodies polygons\n",
    "    combined_gdf = gpd.GeoDataFrame(pd.concat([buffered_flowlines_gdf, waterbodies_gdf], ignore_index=True))\n",
    "    print(\"Combined Flowlines and Waterbodies {}\".format(get_elapsed_time()))\n",
    "\n",
    "\n",
    "    return combined_gdf"
   ]
  },
  {
   "cell_type": "markdown",
   "metadata": {},
   "source": [
    "### Rasterize Functions"
   ]
  },
  {
   "cell_type": "code",
   "execution_count": 33,
   "metadata": {},
   "outputs": [],
   "source": [
    "def normalize_raster(raster_data):\n",
    "    raster_min = np.nanmin(raster_data)\n",
    "    raster_max = np.nanmax(raster_data)\n",
    "    raster_data_normalized = 255 * (raster_data - raster_min) / (raster_max - raster_min)\n",
    "    raster_data_normalized = raster_data_normalized.astype(np.uint8)\n",
    "    return raster_data_normalized"
   ]
  },
  {
   "cell_type": "code",
   "execution_count": 34,
   "metadata": {},
   "outputs": [],
   "source": [
    "def print_raster(raster_data, title):\n",
    "    normalized_raster = normalize_raster(raster_data)\n",
    "    plt.imsave('{}.png'.format(title), normalized_raster, cmap='gray', vmin=0, vmax=255)\n",
    "    print(\"Successfully created raster: {}\".format(title))"
   ]
  },
  {
   "cell_type": "code",
   "execution_count": 35,
   "metadata": {},
   "outputs": [],
   "source": [
    "def rasterize_layer(gdf, layer_name, attribute_mapping = None):\n",
    "    xmin, ymin, xmax, ymax = gdf.total_bounds\n",
    "    width = int((xmax - xmin) / resolution)\n",
    "    height = int((ymax - ymin) / resolution)\n",
    "    transform = from_origin(xmin, ymax, resolution, resolution)\n",
    "    raster_data = np.full((height, width), np.nan)\n",
    "    # Rasterize the clay content\n",
    "    for _, row in gdf.iterrows():\n",
    "        \n",
    "        value = row[layer_name]\n",
    "        \n",
    "        if attribute_mapping:\n",
    "            value = attribute_mapping[value]    \n",
    "\n",
    "        shapes = [(row['geometry'], value)]\n",
    "\n",
    "        burned = rasterize(\n",
    "            shapes=shapes,\n",
    "            out_shape=(height, width),\n",
    "            fill=np.nan,\n",
    "            transform=transform,\n",
    "            all_touched=True,\n",
    "            dtype='float32'\n",
    "        )\n",
    "        raster_data = np.where(np.isnan(raster_data), burned, raster_data)\n",
    "\n",
    "    return raster_data"
   ]
  },
  {
   "cell_type": "markdown",
   "metadata": {},
   "source": [
    "### Primary Execution Script"
   ]
  },
  {
   "cell_type": "code",
   "execution_count": 62,
   "metadata": {},
   "outputs": [
    {
     "name": "stdout",
     "output_type": "stream",
     "text": [
      "Read spatial data form file 8.561441898345947\n",
      "Read tabular data from database 0.32973265647888184\n",
      "Merged tabular and spatial data 0.03200125694274902\n",
      "Filtered data for bounding box 0.5395748615264893\n",
      "Soil data loaded\n",
      "Processing Water Data...\n",
      "Read data from file 56.669527530670166\n",
      "Filtered data for bounding box 7.26214075088501\n",
      "Merged data 0.2815406322479248\n",
      "Buffered Flowlines 0.04656076431274414\n",
      "Combined Flowlines and Waterbodies 0.0019989013671875\n",
      "Water data loaded\n"
     ]
    },
    {
     "name": "stderr",
     "output_type": "stream",
     "text": [
      "C:\\Users\\schro\\AppData\\Local\\Temp\\ipykernel_47752\\3923642483.py:34: UserWarning: Geometry is in a geographic CRS. Results from 'buffer' are likely incorrect. Use 'GeoSeries.to_crs()' to re-project geometries to a projected CRS before this operation.\n",
      "\n",
      "  buffered_flowlines_gdf['geometry'] = flowlines_gdf.buffer(buffered_flowlines_gdf['buffer'])\n"
     ]
    },
    {
     "name": "stdout",
     "output_type": "stream",
     "text": [
      "Loaded DEM data 0.6525444984436035\n",
      "Resampled DEM data 0.007999181747436523\n",
      "DEM data loaded\n",
      " ================================\n",
      "             minx       miny        maxx       maxy\n",
      "26327 -118.981560  45.592143 -118.378738  45.969016\n",
      "26328 -118.970401  45.525173 -118.379419  45.976782\n",
      "26329 -118.983568  45.572468 -118.376660  45.978204\n",
      "26331 -118.974966  45.739509 -118.405261  45.955727\n",
      "26415 -119.138808  45.351568 -118.314069  46.000916\n",
      "26416 -119.138808  45.351568 -118.314069  46.000916\n",
      "26425 -119.434645  45.526714 -118.634111  45.995478\n",
      "26448 -119.327736  45.604910 -118.566194  46.000980\n",
      "26462 -119.248260  45.515957 -118.390996  46.000954\n",
      "26485 -118.953692  45.655094 -118.400503  45.932595\n",
      "26506 -119.071462  45.715986 -118.808173  46.000759\n",
      "26510 -119.434574  45.602163 -118.533383  46.000975\n",
      "26511 -119.434635  45.596602 -118.531205  46.000984\n",
      "26512 -119.434653  45.603829 -118.503334  46.001043\n",
      "26513 -119.434653  45.603829 -118.503334  46.001043\n",
      " ------------------------------\n",
      "           minx       miny        maxx       maxy\n",
      "0   -118.905439  45.819786 -118.897323  45.826499\n",
      "1   -118.892256  45.814872 -118.889410  45.817405\n",
      "2   -118.907196  45.824499 -118.903439  45.827004\n",
      "3   -118.915623  45.802056 -118.905526  45.810373\n",
      "4   -118.900317  45.806807 -118.889409  45.814334\n",
      "..          ...        ...         ...        ...\n",
      "120 -118.944334  45.781104 -118.941457  45.784211\n",
      "121 -118.936949  45.786880 -118.926011  45.794475\n",
      "122 -118.949713  45.782213 -118.942335  45.786400\n",
      "123 -118.950081  45.784686 -118.940306  45.793228\n",
      "124 -118.932426  45.769650 -118.920228  45.775011\n",
      "\n",
      "[125 rows x 4 columns]\n",
      " ================================\n",
      "Rasterization complete\n",
      "Successfully created raster: dem\n"
     ]
    },
    {
     "name": "stderr",
     "output_type": "stream",
     "text": [
      "C:\\Users\\schro\\AppData\\Local\\Temp\\ipykernel_47752\\3347337340.py:4: RuntimeWarning: invalid value encountered in divide\n",
      "  raster_data_normalized = 255 * (raster_data - raster_min) / (raster_max - raster_min)\n",
      "C:\\Users\\schro\\AppData\\Local\\Temp\\ipykernel_47752\\3347337340.py:5: RuntimeWarning: invalid value encountered in cast\n",
      "  raster_data_normalized = raster_data_normalized.astype(np.uint8)\n"
     ]
    },
    {
     "name": "stdout",
     "output_type": "stream",
     "text": [
      "Successfully created raster: precip\n",
      "Successfully created raster: temp\n",
      "Successfully created raster: soil\n",
      "Successfully created raster: water\n",
      "Total time: 100.54794430732727\n"
     ]
    }
   ],
   "source": [
    "start = time.time()\n",
    "start_time = start\n",
    "with open('constants.json') as f:\n",
    "    constants = json.load(f)['constants']\n",
    "\n",
    "## Primary Layer Data\n",
    "soildb_path = 'SSURGODB.gpkg' \n",
    "combined_dem_path = 'merged_dem.tif'\n",
    "gpkg_path = 'nhdplus_epasnapshot2022_or.gpkg'\n",
    "main_crs = 'EPSG:4326'\n",
    "\n",
    "## Focus Area\n",
    "resolution = 15 / 111000\n",
    "lat = 45.798\n",
    "long = -118.932\n",
    "width = 2 * 1609.34\n",
    "\n",
    "bounding_box = create_bounding_box(long,lat,width)  # 5 miles in meters\n",
    "\n",
    "\n",
    "start_time = time.time()    \n",
    "soils_gdf = load_soil_data(bounding_box)\n",
    "print(\"Soil data loaded\")\n",
    "water_gdf = load_water_data(bounding_box)\n",
    "print(\"Water data loaded\")\n",
    "## DEM (already rasterized)\n",
    "dem_raster = load_dem_data(bounding_box)\n",
    "print(\"DEM data loaded\")\n",
    "\n",
    "\n",
    "print(\" ================================\")\n",
    "print(soils_gdf.bounds)\n",
    "print(\" ------------------------------\")\n",
    "\n",
    "water_gdf = water_gdf.to_crs(soils_gdf.crs)\n",
    "print(water_gdf.bounds)\n",
    "print(\" ================================\")\n",
    "\n",
    "precip_raster = rasterize_layer(soils_gdf, 'map_r')\n",
    "temp_raster = rasterize_layer(soils_gdf, 'airtempa_r')\n",
    "soil_raster = rasterize_layer(soils_gdf, 'taxorder', constants['soil_type_mapping'])\n",
    "water_raster = rasterize_layer(water_gdf, 'qa')\n",
    "print(\"Rasterization complete\")\n",
    "\n",
    "print_raster(dem_raster, 'dem')\n",
    "print_raster(precip_raster, 'precip')\n",
    "print_raster(temp_raster, 'temp')\n",
    "print_raster(soil_raster, 'soil')\n",
    "print_raster(water_raster, 'water')\n",
    "print (\"Total time: {}\".format(time.time() - start_time))\n"
   ]
  },
  {
   "cell_type": "code",
   "execution_count": 57,
   "metadata": {},
   "outputs": [
    {
     "data": {
      "text/plain": [
       "(-118.97359140524283,\n",
       " 45.76900288288289,\n",
       " -118.89040859475718,\n",
       " 45.826997117117116)"
      ]
     },
     "execution_count": 57,
     "metadata": {},
     "output_type": "execute_result"
    }
   ],
   "source": [
    "bounding_box.bounds"
   ]
  }
 ],
 "metadata": {
  "kernelspec": {
   "display_name": "Python 3",
   "language": "python",
   "name": "python3"
  },
  "language_info": {
   "codemirror_mode": {
    "name": "ipython",
    "version": 3
   },
   "file_extension": ".py",
   "mimetype": "text/x-python",
   "name": "python",
   "nbconvert_exporter": "python",
   "pygments_lexer": "ipython3",
   "version": "3.12.3"
  }
 },
 "nbformat": 4,
 "nbformat_minor": 2
}
